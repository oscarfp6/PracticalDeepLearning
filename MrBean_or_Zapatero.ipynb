{
  "nbformat": 4,
  "nbformat_minor": 0,
  "metadata": {
    "colab": {
      "provenance": [],
      "gpuType": "T4",
      "authorship_tag": "ABX9TyN2mp/i9breiDDw56qpveUv",
      "include_colab_link": true
    },
    "kernelspec": {
      "name": "python3",
      "display_name": "Python 3"
    },
    "language_info": {
      "name": "python"
    },
    "accelerator": "GPU"
  },
  "cells": [
    {
      "cell_type": "markdown",
      "metadata": {
        "id": "view-in-github",
        "colab_type": "text"
      },
      "source": [
        "<a href=\"https://colab.research.google.com/github/oscarfp6/PracticalDeepLearning/blob/main/MrBean_or_Zapatero.ipynb\" target=\"_parent\"><img src=\"https://colab.research.google.com/assets/colab-badge.svg\" alt=\"Open In Colab\"/></a>"
      ]
    },
    {
      "cell_type": "code",
      "execution_count": null,
      "metadata": {
        "id": "Os4dpS-g2okJ"
      },
      "outputs": [],
      "source": [
        "# Instala las últimas versiones de fastai y gradio\n",
        "!pip install -U fastai gradio duckduckgo-search\n",
        "\n",
        "# Importa todo lo necesario de fastai y gradio\n",
        "from fastai.vision.all import *\n",
        "import gradio as gr"
      ]
    },
    {
      "cell_type": "code",
      "source": [],
      "metadata": {
        "id": "PjcWP7LO3Q1n"
      },
      "execution_count": null,
      "outputs": []
    }
  ]
}